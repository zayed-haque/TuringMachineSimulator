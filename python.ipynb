{
 "cells": [
  {
   "cell_type": "code",
   "execution_count": 1,
   "metadata": {},
   "outputs": [
    {
     "data": {
      "application/vnd.jupyter.widget-view+json": {
       "model_id": "7daf518702834832942495095449f719",
       "version_major": 2,
       "version_minor": 0
      },
      "text/plain": [
       "Dropdown(description='Machine Type:', options=('1', '2'), value='1')"
      ]
     },
     "metadata": {},
     "output_type": "display_data"
    },
    {
     "data": {
      "application/vnd.jupyter.widget-view+json": {
       "model_id": "71588bef9c0c4f44a82acb0dbb0741e7",
       "version_major": 2,
       "version_minor": 0
      },
      "text/plain": [
       "Text(value='', description='States:')"
      ]
     },
     "metadata": {},
     "output_type": "display_data"
    },
    {
     "data": {
      "application/vnd.jupyter.widget-view+json": {
       "model_id": "7d0f6b924c694ab7ac56da35dcb72e9f",
       "version_major": 2,
       "version_minor": 0
      },
      "text/plain": [
       "Text(value='', description='Symbols:')"
      ]
     },
     "metadata": {},
     "output_type": "display_data"
    },
    {
     "data": {
      "application/vnd.jupyter.widget-view+json": {
       "model_id": "944ca4d8a6044ffca37468118405c61a",
       "version_major": 2,
       "version_minor": 0
      },
      "text/plain": [
       "Text(value='', description='Blank Symbol:')"
      ]
     },
     "metadata": {},
     "output_type": "display_data"
    },
    {
     "data": {
      "application/vnd.jupyter.widget-view+json": {
       "model_id": "0d0a18d38eed451292c665d31a2dbf60",
       "version_major": 2,
       "version_minor": 0
      },
      "text/plain": [
       "Text(value='', description='Initial State:')"
      ]
     },
     "metadata": {},
     "output_type": "display_data"
    },
    {
     "data": {
      "application/vnd.jupyter.widget-view+json": {
       "model_id": "780f67ed88544ef28edd594d324493ba",
       "version_major": 2,
       "version_minor": 0
      },
      "text/plain": [
       "Text(value='', description='Accepting States:')"
      ]
     },
     "metadata": {},
     "output_type": "display_data"
    },
    {
     "data": {
      "application/vnd.jupyter.widget-view+json": {
       "model_id": "478536e2d5064c22bf8bb7e4f7764498",
       "version_major": 2,
       "version_minor": 0
      },
      "text/plain": [
       "Textarea(value='', description='Transitions:')"
      ]
     },
     "metadata": {},
     "output_type": "display_data"
    },
    {
     "data": {
      "application/vnd.jupyter.widget-view+json": {
       "model_id": "853a1654d31840a39da4f34f18544566",
       "version_major": 2,
       "version_minor": 0
      },
      "text/plain": [
       "Text(value='', description='Initial Tape:')"
      ]
     },
     "metadata": {},
     "output_type": "display_data"
    },
    {
     "data": {
      "application/vnd.jupyter.widget-view+json": {
       "model_id": "aa4ba4bb67274fabad487e855df7a79a",
       "version_major": 2,
       "version_minor": 0
      },
      "text/plain": [
       "Button(description='Run', style=ButtonStyle())"
      ]
     },
     "metadata": {},
     "output_type": "display_data"
    },
    {
     "data": {
      "application/vnd.jupyter.widget-view+json": {
       "model_id": "a32366e8ca5b402b949948164a4a544e",
       "version_major": 2,
       "version_minor": 0
      },
      "text/plain": [
       "Button(description='Reset', style=ButtonStyle())"
      ]
     },
     "metadata": {},
     "output_type": "display_data"
    },
    {
     "data": {
      "application/vnd.jupyter.widget-view+json": {
       "model_id": "b3740df329804783babc94759eab9665",
       "version_major": 2,
       "version_minor": 0
      },
      "text/plain": [
       "Output()"
      ]
     },
     "metadata": {},
     "output_type": "display_data"
    }
   ],
   "source": [
    "import ipywidgets as widgets\n",
    "from IPython.display import display, HTML, clear_output\n",
    "import threading\n",
    "\n",
    "# Define the TuringMachine and TwoTapeTuringMachine classes here\n",
    "class TuringMachine:\n",
    "    def __init__(self, states, symbols, blank_symbol, transitions, initial_state, accepting_states):\n",
    "        self.states = states\n",
    "        self.symbols = symbols\n",
    "        self.blank_symbol = blank_symbol\n",
    "        self.transitions = transitions\n",
    "        self.state = initial_state\n",
    "        self.accepting_states = accepting_states\n",
    "        self.tape = [blank_symbol]\n",
    "        self.head_position = 0\n",
    "        \n",
    "    def step(self):\n",
    "        current_symbol = self.tape[self.head_position]\n",
    "        if (self.state, current_symbol) in self.transitions:\n",
    "            new_state, new_symbol, move = self.transitions[(self.state, current_symbol)]\n",
    "            self.state = new_state\n",
    "            self.tape[self.head_position] = new_symbol\n",
    "            if move == 'R':\n",
    "                self.head_position += 1\n",
    "                if self.head_position == len(self.tape):\n",
    "                    self.tape.append(self.blank_symbol)\n",
    "            elif move == 'L':\n",
    "                self.head_position -= 1\n",
    "                if self.head_position < 0:\n",
    "                    self.tape.insert(0, self.blank_symbol)\n",
    "                    self.head_position = 0\n",
    "            return True\n",
    "        return False\n",
    "    \n",
    "    def run(self):\n",
    "        while self.state not in self.accepting_states:\n",
    "            if not self.step():\n",
    "                break\n",
    "        return self.tape\n",
    "\n",
    "class TwoTapeTuringMachine(TuringMachine):\n",
    "    def __init__(self, *args):\n",
    "        super().__init__(*args)\n",
    "        self.tape2 = [self.blank_symbol]\n",
    "        self.head_position2 = 0\n",
    "        \n",
    "    def step(self):\n",
    "        current_symbol = self.tape[self.head_position]\n",
    "        current_symbol2 = self.tape2[self.head_position2]\n",
    "        if (self.state, current_symbol, current_symbol2) in self.transitions:\n",
    "            new_state, new_symbol, new_symbol2, move, move2 = self.transitions[(self.state, current_symbol, current_symbol2)]\n",
    "            self.state = new_state\n",
    "            self.tape[self.head_position] = new_symbol\n",
    "            self.tape2[self.head_position2] = new_symbol2\n",
    "            if move == 'R':\n",
    "                self.head_position += 1\n",
    "                if self.head_position == len(self.tape):\n",
    "                    self.tape.append(self.blank_symbol)\n",
    "            elif move == 'L':\n",
    "                self.head_position -= 1\n",
    "                if self.head_position < 0:\n",
    "                    self.tape.insert(0, self.blank_symbol)\n",
    "                    self.head_position = 0\n",
    "            if move2 == 'R':\n",
    "                self.head_position2 += 1\n",
    "                if self.head_position2 == len(self.tape2):\n",
    "                    self.tape2.append(self.blank_symbol)\n",
    "            elif move2 == 'L':\n",
    "                self.head_position2 -= 1\n",
    "                if self.head_position2 < 0:\n",
    "                    self.tape2.insert(0, self.blank_symbol)\n",
    "                    self.head_position2 = 0\n",
    "            return True\n",
    "        return False\n",
    "\n",
    "\n",
    "# Define the user input functions here\n",
    "def get_input():\n",
    "    machine_type = input(\"Enter '1' for one-tape Turing machine, '2' for two-tape Turing machine: \")\n",
    "    states = input(\"Enter states separated by space: \").split()\n",
    "    symbols = input(\"Enter symbols separated by space: \").split()\n",
    "    blank_symbol = input(\"Enter the blank symbol: \")\n",
    "    initial_state = input(\"Enter the initial state: \")\n",
    "    accepting_states = input(\"Enter accepting states separated by space: \").split()\n",
    "    transitions = get_transitions(machine_type)\n",
    "    initial_tape = list(input(\"Enter initial tape content: \"))\n",
    "    \n",
    "    return {\n",
    "        \"machine_type\": machine_type,\n",
    "        \"states\": states,\n",
    "        \"symbols\": symbols,\n",
    "        \"blank_symbol\": blank_symbol,\n",
    "        \"transitions\": transitions,\n",
    "        \"initial_state\": initial_state,\n",
    "        \"accepting_states\": accepting_states,\n",
    "        \"initial_tape\": initial_tape\n",
    "    }\n",
    "\n",
    "def get_transitions(machine_type):\n",
    "    transitions = {}\n",
    "    while True:\n",
    "        transition = input(\"Enter transition (or 'done' to finish): \")\n",
    "        if transition == 'done':\n",
    "            break\n",
    "        transition_parts = transition.split()\n",
    "        if machine_type == '1':\n",
    "            if len(transition_parts) != 5:\n",
    "                print(\"Invalid transition! Please enter transitions in the format: current_state read_symbol new_state write_symbol move_direction\")\n",
    "                continue\n",
    "            current_state, read_symbol, new_state, write_symbol, move_direction = transition_parts\n",
    "            transitions[(current_state, read_symbol)] = (new_state, write_symbol, move_direction)\n",
    "        elif machine_type == '2':\n",
    "            if len(transition_parts) != 7:\n",
    "                print(\"Invalid transition! Please enter transitions in the format: current_state read_symbol1 read_symbol2 new_state write_symbol1 write_symbol2 move_direction1 move_direction2\")\n",
    "                continue\n",
    "            current_state, read_symbol1, read_symbol2, new_state, write_symbol1, write_symbol2, move_direction1, move_direction2 = transition_parts\n",
    "            transitions[(current_state, read_symbol1, read_symbol2)] = (new_state, write_symbol1, write_symbol2, move_direction1, move_direction2)\n",
    "    return transitions\n",
    "\n",
    "\n",
    "# Define the simulation and visualization functions here\n",
    "import time\n",
    "import sys\n",
    "\n",
    "def visualize_turing_machine(tm):\n",
    "    def print_tape(tape, head_position):\n",
    "        # Remove trailing blank symbols for display\n",
    "        while tape and tape[-1] == tm.blank_symbol:\n",
    "            tape.pop()\n",
    "        tape_str = ' '.join(tape)\n",
    "        head_indicator = ' ' * (2 * head_position) + '^'\n",
    "        display(HTML(f\"<pre>{tape_str}\\n{head_indicator}</pre>\"))\n",
    "    \n",
    "    display(HTML(\"<b>Initial Configuration:</b>\"))\n",
    "    print_tape(tm.tape.copy(), tm.head_position)\n",
    "    display(HTML(f\"<b>Initial State:</b> {tm.state}\"))\n",
    "    display(HTML(\"<b>Running...</b>\"))\n",
    "    time.sleep(1)\n",
    "    \n",
    "    iteration = 0\n",
    "    while tm.state not in tm.accepting_states:\n",
    "        if not tm.step():\n",
    "            display(HTML(\"<b>Halting...</b>\"))\n",
    "            break\n",
    "        iteration += 1\n",
    "        display(HTML(f\"<b>Iteration {iteration}:</b>\"))\n",
    "        print_tape(tm.tape.copy(), tm.head_position)\n",
    "        display(HTML(f\"<b>Current State:</b> {tm.state}\"))\n",
    "        time.sleep(1)\n",
    "    \n",
    "    display(HTML(\"<b>Final Configuration:</b>\"))\n",
    "    print_tape(tm.tape.copy(), tm.head_position)\n",
    "    display(HTML(f\"<b>Final State:</b> {tm.state}\"))\n",
    "    display(HTML(f\"<b>Head Position:</b> {tm.head_position}\"))\n",
    "\n",
    "def run_turing_machine(config):\n",
    "    if config[\"machine_type\"] == '1':\n",
    "        tm = TuringMachine(config[\"states\"], config[\"symbols\"], config[\"blank_symbol\"], config[\"transitions\"], config[\"initial_state\"], config[\"accepting_states\"])\n",
    "    elif config[\"machine_type\"] == '2':\n",
    "        tm = TwoTapeTuringMachine(config[\"states\"], config[\"symbols\"], config[\"blank_symbol\"], config[\"transitions\"], config[\"initial_state\"], config[\"accepting_states\"])\n",
    "    \n",
    "    tm.tape = config[\"initial_tape\"] + [config[\"blank_symbol\"]]\n",
    "    visualize_turing_machine(tm)\n",
    "\n",
    "# Frontend components\n",
    "machine_type_dropdown = widgets.Dropdown(options=['1', '2'], description='Machine Type:')\n",
    "states_text = widgets.Text(description='States:')\n",
    "symbols_text = widgets.Text(description='Symbols:')\n",
    "blank_symbol_text = widgets.Text(description='Blank Symbol:')\n",
    "initial_state_text = widgets.Text(description='Initial State:')\n",
    "accepting_states_text = widgets.Text(description='Accepting States:')\n",
    "transitions_textarea = widgets.Textarea(description='Transitions:')\n",
    "initial_tape_text = widgets.Text(description='Initial Tape:')\n",
    "run_button = widgets.Button(description='Run')\n",
    "reset_button = widgets.Button(description='Reset')\n",
    "output_area = widgets.Output()\n",
    "\n",
    "# Frontend logic\n",
    "def run_simulation(b):\n",
    "    with output_area:\n",
    "        clear_output(wait=True)\n",
    "        config = {\n",
    "            \"machine_type\": machine_type_dropdown.value,\n",
    "            \"states\": states_text.value.split(),\n",
    "            \"symbols\": symbols_text.value.split(),\n",
    "            \"blank_symbol\": blank_symbol_text.value,\n",
    "            \"transitions\": parse_transitions(transitions_textarea.value, machine_type_dropdown.value),\n",
    "            \"initial_state\": initial_state_text.value,\n",
    "            \"accepting_states\": accepting_states_text.value.split(),\n",
    "            \"initial_tape\": list(initial_tape_text.value)\n",
    "        }\n",
    "        run_turing_machine(config)\n",
    "\n",
    "def reset_fields(b):\n",
    "    machine_type_dropdown.value = '1'\n",
    "    states_text.value = ''\n",
    "    symbols_text.value = ''\n",
    "    blank_symbol_text.value = ''\n",
    "    initial_state_text.value = ''\n",
    "    accepting_states_text.value = ''\n",
    "    transitions_textarea.value = ''\n",
    "    initial_tape_text.value = ''\n",
    "    with output_area:\n",
    "        clear_output(wait=True)\n",
    "\n",
    "def parse_transitions(transitions_str, machine_type):\n",
    "    transitions = {}\n",
    "    for line in transitions_str.split('\\n'):\n",
    "        parts = line.split()\n",
    "        if not parts:\n",
    "            continue\n",
    "        if machine_type == '1':\n",
    "            if len(parts) == 5:\n",
    "                transitions[(parts[0], parts[1])] = (parts[2], parts[3], parts[4])\n",
    "        elif machine_type == '2':\n",
    "            if len(parts) == 7:\n",
    "                transitions[(parts[0], parts[1], parts[2])] = (parts[3], parts[4], parts[5], parts[6])\n",
    "    return transitions\n",
    "\n",
    "# Event handlers\n",
    "run_button.on_click(run_simulation)\n",
    "reset_button.on_click(reset_fields)\n",
    "\n",
    "# Display frontend\n",
    "display(machine_type_dropdown, states_text, symbols_text, blank_symbol_text, initial_state_text, accepting_states_text, transitions_textarea, initial_tape_text, run_button, reset_button, output_area)\n"
   ]
  }
 ],
 "metadata": {
  "kernelspec": {
   "display_name": "base",
   "language": "python",
   "name": "python3"
  },
  "language_info": {
   "codemirror_mode": {
    "name": "ipython",
    "version": 3
   },
   "file_extension": ".py",
   "mimetype": "text/x-python",
   "name": "python",
   "nbconvert_exporter": "python",
   "pygments_lexer": "ipython3",
   "version": "3.8.8"
  },
  "orig_nbformat": 4
 },
 "nbformat": 4,
 "nbformat_minor": 2
}
